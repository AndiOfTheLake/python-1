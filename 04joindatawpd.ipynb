{
 "cells": [
  {
   "cell_type": "markdown",
   "id": "610cdab4",
   "metadata": {},
   "source": [
    "## 04 Joining data with pandas\n",
    "\n",
    "In this file: merge = join; table = DataFrame"
   ]
  },
  {
   "cell_type": "code",
   "execution_count": 1,
   "id": "551ac458",
   "metadata": {},
   "outputs": [
    {
     "name": "stdout",
     "output_type": "stream",
     "text": [
      "     rid   vid           owner                 address    zip\n",
      "0  T6285  6285  AGEAN TAXI LLC     4536 N. ELSTON AVE.  60630\n",
      "1  T4862  4862    MANGIB CORP.  5717 N. WASHTENAW AVE.  60659\n"
     ]
    }
   ],
   "source": [
    "import pandas as pd\n",
    "\n",
    "taxi_owners = pd.read_pickle('taxi_owners.p')\n",
    "taxi_veh = pd.read_pickle('taxi_vehicles.p')\n",
    "\n",
    "print(taxi_owners.head(2))"
   ]
  },
  {
   "cell_type": "code",
   "execution_count": 2,
   "id": "7a6fda5c",
   "metadata": {},
   "outputs": [
    {
     "name": "stdout",
     "output_type": "stream",
     "text": [
      "    vid    make  model  year fuel_type           owner\n",
      "0  2767  TOYOTA  CAMRY  2013    HYBRID  SEYED M. BADRI\n",
      "1  1411  TOYOTA   RAV4  2017    HYBRID     DESZY CORP.\n"
     ]
    }
   ],
   "source": [
    "print(taxi_veh.head(2))"
   ]
  },
  {
   "cell_type": "markdown",
   "id": "dcfa6303",
   "metadata": {},
   "source": [
    "## First inner joint\n",
    "\n",
    "We notice that vid is the only variable common to both DataFrames. So we merge on vid."
   ]
  },
  {
   "cell_type": "code",
   "execution_count": 3,
   "id": "0b586af2",
   "metadata": {},
   "outputs": [
    {
     "name": "stdout",
     "output_type": "stream",
     "text": [
      "Index(['rid', 'vid', 'owner_x', 'address', 'zip', 'make', 'model', 'year',\n",
      "       'fuel_type', 'owner_y'],\n",
      "      dtype='object')\n"
     ]
    }
   ],
   "source": [
    "# Merge the taxi_owners and taxi_veh tables\n",
    "taxi_own_veh = taxi_owners.merge(taxi_veh, on = 'vid')\n",
    "\n",
    "# Print the column names of the taxi_own_veh\n",
    "print(taxi_own_veh.columns)\n"
   ]
  },
  {
   "cell_type": "code",
   "execution_count": 4,
   "id": "32f836c2",
   "metadata": {},
   "outputs": [
    {
     "name": "stdout",
     "output_type": "stream",
     "text": [
      "Index(['rid', 'vid', 'owner_own', 'address', 'zip', 'make', 'model', 'year',\n",
      "       'fuel_type', 'owner_veh'],\n",
      "      dtype='object')\n"
     ]
    }
   ],
   "source": [
    "# Merge the taxi_owners and taxi_veh tables setting a suffix\n",
    "# Note the argument for suffixes is a tuple, not a list\n",
    "taxi_own_veh = taxi_owners.merge(taxi_veh, on='vid', suffixes = ('_own', '_veh')) \n",
    "\n",
    "# Print the column names of taxi_own_veh\n",
    "print(taxi_own_veh.columns)\n"
   ]
  },
  {
   "cell_type": "code",
   "execution_count": 5,
   "id": "8c080b1e",
   "metadata": {},
   "outputs": [
    {
     "name": "stdout",
     "output_type": "stream",
     "text": [
      "HYBRID                    2792\n",
      "GASOLINE                   611\n",
      "FLEX FUEL                   89\n",
      "COMPRESSED NATURAL GAS      27\n",
      "Name: fuel_type, dtype: int64\n"
     ]
    }
   ],
   "source": [
    "# Print the value_counts to find the most popular fuel_type\n",
    "print(taxi_own_veh['fuel_type'].value_counts())"
   ]
  },
  {
   "cell_type": "markdown",
   "id": "9a6bcf0d",
   "metadata": {},
   "source": [
    "## Inner joins and number of rows returned"
   ]
  },
  {
   "cell_type": "code",
   "execution_count": 6,
   "id": "8d039572",
   "metadata": {},
   "outputs": [],
   "source": [
    "wards = pd.read_pickle('ward.p')\n",
    "census = pd.read_pickle('census.p')"
   ]
  },
  {
   "cell_type": "code",
   "execution_count": 7,
   "id": "d10f1e4a",
   "metadata": {},
   "outputs": [
    {
     "name": "stdout",
     "output_type": "stream",
     "text": [
      "(50, 4)\n"
     ]
    }
   ],
   "source": [
    "print(wards.shape)"
   ]
  },
  {
   "cell_type": "code",
   "execution_count": 8,
   "id": "f0c9c2b5",
   "metadata": {},
   "outputs": [
    {
     "name": "stdout",
     "output_type": "stream",
     "text": [
      "(50, 6)\n"
     ]
    }
   ],
   "source": [
    "print(census.shape)"
   ]
  },
  {
   "cell_type": "code",
   "execution_count": 9,
   "id": "12785436",
   "metadata": {},
   "outputs": [
    {
     "name": "stdout",
     "output_type": "stream",
     "text": [
      "wards_census table shape: (50, 9)\n"
     ]
    }
   ],
   "source": [
    "# Merge the wards and census tables on the ward column\n",
    "wards_census = wards.merge(census, on = 'ward')\n",
    "\n",
    "# Print the shape of wards_census\n",
    "print('wards_census table shape:', wards_census.shape)"
   ]
  },
  {
   "cell_type": "markdown",
   "id": "b2aab9ce",
   "metadata": {},
   "source": [
    "Merge the wards_altered and census tables on the ward column, and notice the difference in returned rows."
   ]
  },
  {
   "cell_type": "code",
   "execution_count": 10,
   "id": "73057016",
   "metadata": {},
   "outputs": [
    {
     "name": "stdout",
     "output_type": "stream",
     "text": [
      "0    1\n",
      "1    2\n",
      "2    3\n",
      "3    4\n",
      "4    5\n",
      "Name: ward, dtype: object\n"
     ]
    }
   ],
   "source": [
    "print(wards['ward'].head())\n"
   ]
  },
  {
   "cell_type": "code",
   "execution_count": 11,
   "id": "897717bd",
   "metadata": {},
   "outputs": [
    {
     "name": "stdout",
     "output_type": "stream",
     "text": [
      "0    61\n",
      "1     2\n",
      "2     3\n",
      "3     4\n",
      "4     5\n",
      "Name: ward, dtype: object\n"
     ]
    }
   ],
   "source": [
    "# Alter the first value in the ward column\n",
    "wards_altered = wards.replace(to_replace = wards['ward'][0], value = 61)\n",
    "print(wards_altered['ward'].head())\n"
   ]
  },
  {
   "cell_type": "code",
   "execution_count": 12,
   "id": "d330cc09",
   "metadata": {},
   "outputs": [
    {
     "name": "stdout",
     "output_type": "stream",
     "text": [
      "wards_altered_census table shape: (49, 9)\n"
     ]
    }
   ],
   "source": [
    "# Merge the wards_altered and census tables on the ward column\n",
    "wards_altered_census = wards_altered.merge(census, on = 'ward')\n",
    "\n",
    "# Print the shape of wards_altered_census\n",
    "print('wards_altered_census table shape:', wards_altered_census.shape)"
   ]
  },
  {
   "cell_type": "markdown",
   "id": "32e5c5f7",
   "metadata": {},
   "source": [
    "## One to many relationships"
   ]
  },
  {
   "cell_type": "code",
   "execution_count": 13,
   "id": "2ef87a7b",
   "metadata": {},
   "outputs": [],
   "source": [
    "licenses = pd.read_pickle('licenses.p')\n",
    "biz_owners = pd.read_pickle('business_owners.p')"
   ]
  },
  {
   "cell_type": "code",
   "execution_count": 14,
   "id": "ef3e6e9d",
   "metadata": {},
   "outputs": [
    {
     "name": "stdout",
     "output_type": "stream",
     "text": [
      "(10000, 6)\n",
      "(21352, 4)\n"
     ]
    }
   ],
   "source": [
    "print(licenses.shape); print(biz_owners.shape)"
   ]
  },
  {
   "cell_type": "code",
   "execution_count": 16,
   "id": "bf359876",
   "metadata": {},
   "outputs": [
    {
     "name": "stdout",
     "output_type": "stream",
     "text": [
      "                 account\n",
      "title                   \n",
      "PRESIDENT           6259\n",
      "SECRETARY           5205\n",
      "SOLE PROPRIETOR     1658\n",
      "OTHER               1200\n",
      "VICE PRESIDENT       970\n"
     ]
    }
   ],
   "source": [
    "# One to many merge\n",
    "# The left table is the one with a smaller number of rows\n",
    "\n",
    "# Merge the licenses and biz_owners table on account\n",
    "licenses_owners = licenses.merge(biz_owners, on = 'account')\n",
    "\n",
    "# Group the results by title then count the number of accounts\n",
    "counted_df = licenses_owners.groupby('title').agg({'account':'count'})\n",
    "\n",
    "# Sort the counted_df in desending order\n",
    "sorted_df = counted_df.sort_values(by = 'account', ascending = False)\n",
    "\n",
    "# Use .head() method to print the first few rows of sorted_df\n",
    "print(sorted_df.head())"
   ]
  },
  {
   "cell_type": "markdown",
   "id": "9a7b6307",
   "metadata": {},
   "source": [
    "## Merging multiple DataFrames"
   ]
  },
  {
   "cell_type": "code",
   "execution_count": 18,
   "id": "b9eed8e3",
   "metadata": {},
   "outputs": [],
   "source": [
    "cal = pd.read_pickle('cta_ridership.p')\n",
    "ridership = pd.read_pickle(\"cta_calendar.p\")\n",
    "stations = pd.read_pickle(\"stations.p\")"
   ]
  },
  {
   "cell_type": "code",
   "execution_count": 19,
   "id": "e3b307f0",
   "metadata": {},
   "outputs": [],
   "source": [
    "# Merge the ridership and cal tables\n",
    "ridership_cal = ridership.merge(cal, on = ['year', 'month', 'day'])"
   ]
  },
  {
   "cell_type": "code",
   "execution_count": 20,
   "id": "ad6f89aa",
   "metadata": {},
   "outputs": [],
   "source": [
    "# Merge the ridership, cal, and stations tables\n",
    "ridership_cal_stations = ridership.merge(cal, on=['year','month','day']) \\\n",
    "            \t\t\t\t.merge(stations, on = 'station_id')"
   ]
  },
  {
   "cell_type": "code",
   "execution_count": 21,
   "id": "c4de73a6",
   "metadata": {},
   "outputs": [
    {
     "name": "stdout",
     "output_type": "stream",
     "text": [
      "140005\n"
     ]
    }
   ],
   "source": [
    "# Create a filter to filter ridership_cal_stations\n",
    "filter_criteria = ((ridership_cal_stations['month'] == 7) \n",
    "                   & (ridership_cal_stations['day_type'] == 'Weekday') \n",
    "                   & (ridership_cal_stations['station_name'] == 'Wilson'))\n",
    "\n",
    "# Use .loc and the filter to select for rides\n",
    "print(ridership_cal_stations.loc[filter_criteria, 'rides'].sum())"
   ]
  },
  {
   "cell_type": "markdown",
   "id": "8b4930ba",
   "metadata": {},
   "source": [
    "## Three table merge (another example)"
   ]
  },
  {
   "cell_type": "code",
   "execution_count": null,
   "id": "92aaa0c6",
   "metadata": {},
   "outputs": [],
   "source": [
    "zip_demo = pd.read_pickle('zip_demo.p')"
   ]
  }
 ],
 "metadata": {
  "kernelspec": {
   "display_name": "Python 3",
   "language": "python",
   "name": "python3"
  },
  "language_info": {
   "codemirror_mode": {
    "name": "ipython",
    "version": 3
   },
   "file_extension": ".py",
   "mimetype": "text/x-python",
   "name": "python",
   "nbconvert_exporter": "python",
   "pygments_lexer": "ipython3",
   "version": "3.7.4"
  }
 },
 "nbformat": 4,
 "nbformat_minor": 5
}
