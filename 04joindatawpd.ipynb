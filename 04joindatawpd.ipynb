{
 "cells": [
  {
   "cell_type": "markdown",
   "id": "610cdab4",
   "metadata": {},
   "source": [
    "## 04 Joining data with pandas\n",
    "\n",
    "In this file: merge = join; table = DataFrame"
   ]
  },
  {
   "cell_type": "code",
   "execution_count": 1,
   "id": "551ac458",
   "metadata": {},
   "outputs": [
    {
     "name": "stdout",
     "output_type": "stream",
     "text": [
      "     rid   vid           owner                 address    zip\n",
      "0  T6285  6285  AGEAN TAXI LLC     4536 N. ELSTON AVE.  60630\n",
      "1  T4862  4862    MANGIB CORP.  5717 N. WASHTENAW AVE.  60659\n"
     ]
    }
   ],
   "source": [
    "import pandas as pd\n",
    "\n",
    "taxi_owners = pd.read_pickle('taxi_owners.p')\n",
    "taxi_veh = pd.read_pickle('taxi_vehicles.p')\n",
    "\n",
    "print(taxi_owners.head(2))"
   ]
  },
  {
   "cell_type": "code",
   "execution_count": 2,
   "id": "7a6fda5c",
   "metadata": {},
   "outputs": [
    {
     "name": "stdout",
     "output_type": "stream",
     "text": [
      "    vid    make  model  year fuel_type           owner\n",
      "0  2767  TOYOTA  CAMRY  2013    HYBRID  SEYED M. BADRI\n",
      "1  1411  TOYOTA   RAV4  2017    HYBRID     DESZY CORP.\n"
     ]
    }
   ],
   "source": [
    "print(taxi_veh.head(2))"
   ]
  },
  {
   "cell_type": "markdown",
   "id": "dcfa6303",
   "metadata": {},
   "source": [
    "## First inner joint\n",
    "\n",
    "We notice that vid is the only variable common to both DataFrames. So we merge on vid."
   ]
  },
  {
   "cell_type": "code",
   "execution_count": 3,
   "id": "0b586af2",
   "metadata": {},
   "outputs": [
    {
     "name": "stdout",
     "output_type": "stream",
     "text": [
      "Index(['rid', 'vid', 'owner_x', 'address', 'zip', 'make', 'model', 'year',\n",
      "       'fuel_type', 'owner_y'],\n",
      "      dtype='object')\n"
     ]
    }
   ],
   "source": [
    "# Merge the taxi_owners and taxi_veh tables\n",
    "taxi_own_veh = taxi_owners.merge(taxi_veh, on = 'vid')\n",
    "\n",
    "# Print the column names of the taxi_own_veh\n",
    "print(taxi_own_veh.columns)\n"
   ]
  },
  {
   "cell_type": "code",
   "execution_count": 4,
   "id": "32f836c2",
   "metadata": {},
   "outputs": [
    {
     "name": "stdout",
     "output_type": "stream",
     "text": [
      "Index(['rid', 'vid', 'owner_own', 'address', 'zip', 'make', 'model', 'year',\n",
      "       'fuel_type', 'owner_veh'],\n",
      "      dtype='object')\n"
     ]
    }
   ],
   "source": [
    "# Merge the taxi_owners and taxi_veh tables setting a suffix\n",
    "# Note the argument for suffixes is a tuple, not a list\n",
    "taxi_own_veh = taxi_owners.merge(taxi_veh, on='vid', suffixes = ('_own', '_veh')) \n",
    "\n",
    "# Print the column names of taxi_own_veh\n",
    "print(taxi_own_veh.columns)\n"
   ]
  },
  {
   "cell_type": "code",
   "execution_count": 5,
   "id": "8c080b1e",
   "metadata": {},
   "outputs": [
    {
     "name": "stdout",
     "output_type": "stream",
     "text": [
      "HYBRID                    2792\n",
      "GASOLINE                   611\n",
      "FLEX FUEL                   89\n",
      "COMPRESSED NATURAL GAS      27\n",
      "Name: fuel_type, dtype: int64\n"
     ]
    }
   ],
   "source": [
    "# Print the value_counts to find the most popular fuel_type\n",
    "print(taxi_own_veh['fuel_type'].value_counts())"
   ]
  },
  {
   "cell_type": "markdown",
   "id": "9a6bcf0d",
   "metadata": {},
   "source": [
    "## Inner joins and number of rows returned"
   ]
  },
  {
   "cell_type": "code",
   "execution_count": 6,
   "id": "8d039572",
   "metadata": {},
   "outputs": [],
   "source": [
    "wards = pd.read_pickle('ward.p')\n",
    "census = pd.read_pickle('census.p')"
   ]
  },
  {
   "cell_type": "code",
   "execution_count": 7,
   "id": "d10f1e4a",
   "metadata": {},
   "outputs": [
    {
     "name": "stdout",
     "output_type": "stream",
     "text": [
      "(50, 4)\n"
     ]
    }
   ],
   "source": [
    "print(wards.shape)"
   ]
  },
  {
   "cell_type": "code",
   "execution_count": 8,
   "id": "f0c9c2b5",
   "metadata": {},
   "outputs": [
    {
     "name": "stdout",
     "output_type": "stream",
     "text": [
      "(50, 6)\n"
     ]
    }
   ],
   "source": [
    "print(census.shape)"
   ]
  },
  {
   "cell_type": "code",
   "execution_count": 9,
   "id": "12785436",
   "metadata": {},
   "outputs": [
    {
     "name": "stdout",
     "output_type": "stream",
     "text": [
      "wards_census table shape: (50, 9)\n"
     ]
    }
   ],
   "source": [
    "# Merge the wards and census tables on the ward column\n",
    "wards_census = wards.merge(census, on = 'ward')\n",
    "\n",
    "# Print the shape of wards_census\n",
    "print('wards_census table shape:', wards_census.shape)"
   ]
  },
  {
   "cell_type": "markdown",
   "id": "b2aab9ce",
   "metadata": {},
   "source": [
    "Merge the wards_altered and census tables on the ward column, and notice the difference in returned rows."
   ]
  },
  {
   "cell_type": "code",
   "execution_count": 10,
   "id": "73057016",
   "metadata": {},
   "outputs": [
    {
     "name": "stdout",
     "output_type": "stream",
     "text": [
      "0    1\n",
      "1    2\n",
      "2    3\n",
      "3    4\n",
      "4    5\n",
      "Name: ward, dtype: object\n"
     ]
    }
   ],
   "source": [
    "print(wards['ward'].head())\n"
   ]
  },
  {
   "cell_type": "code",
   "execution_count": 11,
   "id": "897717bd",
   "metadata": {},
   "outputs": [
    {
     "name": "stdout",
     "output_type": "stream",
     "text": [
      "0    61\n",
      "1     2\n",
      "2     3\n",
      "3     4\n",
      "4     5\n",
      "Name: ward, dtype: object\n"
     ]
    }
   ],
   "source": [
    "# Alter the first value in the ward column\n",
    "wards_altered = wards.replace(to_replace = wards['ward'][0], value = 61)\n",
    "print(wards_altered['ward'].head())\n"
   ]
  },
  {
   "cell_type": "code",
   "execution_count": 12,
   "id": "d330cc09",
   "metadata": {},
   "outputs": [
    {
     "name": "stdout",
     "output_type": "stream",
     "text": [
      "wards_altered_census table shape: (49, 9)\n"
     ]
    }
   ],
   "source": [
    "# Merge the wards_altered and census tables on the ward column\n",
    "wards_altered_census = wards_altered.merge(census, on = 'ward')\n",
    "\n",
    "# Print the shape of wards_altered_census\n",
    "print('wards_altered_census table shape:', wards_altered_census.shape)"
   ]
  },
  {
   "cell_type": "markdown",
   "id": "32e5c5f7",
   "metadata": {},
   "source": [
    "## One to many relationships"
   ]
  },
  {
   "cell_type": "code",
   "execution_count": 13,
   "id": "2ef87a7b",
   "metadata": {},
   "outputs": [],
   "source": [
    "licenses = pd.read_pickle('licenses.p')\n",
    "biz_owners = pd.read_pickle('business_owners.p')"
   ]
  },
  {
   "cell_type": "code",
   "execution_count": 14,
   "id": "a8616032",
   "metadata": {},
   "outputs": [
    {
     "name": "stdout",
     "output_type": "stream",
     "text": [
      "(10000, 6)\n",
      "(21352, 4)\n"
     ]
    }
   ],
   "source": [
    "print(licenses.shape); print(biz_owners.shape)"
   ]
  },
  {
   "cell_type": "code",
   "execution_count": 15,
   "id": "f4f8b9ca",
   "metadata": {},
   "outputs": [
    {
     "name": "stdout",
     "output_type": "stream",
     "text": [
      "                 account\n",
      "title                   \n",
      "PRESIDENT           6259\n",
      "SECRETARY           5205\n",
      "SOLE PROPRIETOR     1658\n",
      "OTHER               1200\n",
      "VICE PRESIDENT       970\n"
     ]
    }
   ],
   "source": [
    "# One to many merge\n",
    "# The left table is the one with a smaller number of rows in terms of the variable we are merging on\n",
    "\n",
    "# Merge the licenses and biz_owners table on account\n",
    "licenses_owners = licenses.merge(biz_owners, on = 'account')\n",
    "\n",
    "# Group the results by title then count the number of accounts\n",
    "counted_df = licenses_owners.groupby('title').agg({'account':'count'})\n",
    "\n",
    "# Sort the counted_df in desending order\n",
    "sorted_df = counted_df.sort_values(by = 'account', ascending = False)\n",
    "\n",
    "# Use .head() method to print the first few rows of sorted_df\n",
    "print(sorted_df.head())"
   ]
  },
  {
   "cell_type": "markdown",
   "id": "cc9eb0f9",
   "metadata": {},
   "source": [
    "## Merging multiple DataFrames"
   ]
  },
  {
   "cell_type": "code",
   "execution_count": 16,
   "id": "9f0bc7cd",
   "metadata": {},
   "outputs": [],
   "source": [
    "cal = pd.read_pickle('cta_ridership.p')\n",
    "ridership = pd.read_pickle(\"cta_calendar.p\")\n",
    "stations = pd.read_pickle(\"stations.p\")"
   ]
  },
  {
   "cell_type": "code",
   "execution_count": 17,
   "id": "9b2776f9",
   "metadata": {},
   "outputs": [],
   "source": [
    "# Merge the ridership and cal tables\n",
    "ridership_cal = ridership.merge(cal, on = ['year', 'month', 'day'])"
   ]
  },
  {
   "cell_type": "code",
   "execution_count": 18,
   "id": "5b70921e",
   "metadata": {},
   "outputs": [],
   "source": [
    "# Merge the ridership, cal, and stations tables\n",
    "ridership_cal_stations = ridership.merge(cal, on=['year','month','day']) \\\n",
    "            \t\t\t\t.merge(stations, on = 'station_id')"
   ]
  },
  {
   "cell_type": "code",
   "execution_count": 19,
   "id": "baafb704",
   "metadata": {},
   "outputs": [
    {
     "name": "stdout",
     "output_type": "stream",
     "text": [
      "140005\n"
     ]
    }
   ],
   "source": [
    "# Create a filter to filter ridership_cal_stations\n",
    "filter_criteria = ((ridership_cal_stations['month'] == 7) \n",
    "                   & (ridership_cal_stations['day_type'] == 'Weekday') \n",
    "                   & (ridership_cal_stations['station_name'] == 'Wilson'))\n",
    "\n",
    "# Use .loc and the filter to select for rides\n",
    "print(ridership_cal_stations.loc[filter_criteria, 'rides'].sum())"
   ]
  },
  {
   "cell_type": "markdown",
   "id": "546b56e9",
   "metadata": {},
   "source": [
    "## Three table merge (another example)"
   ]
  },
  {
   "cell_type": "code",
   "execution_count": 20,
   "id": "885adab0",
   "metadata": {},
   "outputs": [],
   "source": [
    "zip_demo = pd.read_pickle('zip_demo.p')"
   ]
  },
  {
   "cell_type": "code",
   "execution_count": 21,
   "id": "1a6cb676",
   "metadata": {},
   "outputs": [
    {
     "name": "stdout",
     "output_type": "stream",
     "text": [
      "                           income\n",
      "alderman                         \n",
      "Ameya Pawar                 66246\n",
      "Anthony A. Beale            38206\n",
      "Anthony V. Napolitano       82226\n",
      "Ariel E. Reyboras           41307\n",
      "Brendan Reilly             110215\n",
      "Brian Hopkins               87143\n",
      "Carlos Ramirez-Rosa         66246\n",
      "Carrie M. Austin            38206\n",
      "Chris Taliaferro            55566\n",
      "Daniel \"Danny\" Solis        41226\n",
      "David H. Moore              33304\n",
      "Deborah Mell                66246\n",
      "Debra L. Silverstein        50554\n",
      "Derrick G. Curtis           65770\n",
      "Edward M. Burke             42335\n",
      "Emma M. Mitts               36283\n",
      "George Cardenas             33959\n",
      "Gilbert Villegas            41307\n",
      "Gregory I. Mitchell         24941\n",
      "Harry Osterman              45442\n",
      "Howard B. Brookins, Jr.     33304\n",
      "James Cappleman             79565\n",
      "Jason C. Ervin              41226\n",
      "Joe Moore                   39163\n",
      "John S. Arena               70122\n",
      "Leslie A. Hairston          28024\n",
      "Margaret Laurino            70122\n",
      "Marty Quinn                 67045\n",
      "Matthew J. O'Shea           59488\n",
      "Michael R. Zalewski         42335\n",
      "Michael Scott, Jr.          31445\n",
      "Michelle A. Harris          32558\n",
      "Michelle Smith             100116\n",
      "Milagros \"Milly\" Santiago   41307\n",
      "Nicholas Sposato            62223\n",
      "Pat Dowell                  46340\n",
      "Patrick Daley Thompson      41226\n",
      "Patrick J. O'Connor         50554\n",
      "Proco \"Joe\" Moreno          87143\n",
      "Raymond A. Lopez            33959\n",
      "Ricardo Munoz               31445\n",
      "Roberto Maldonado           68223\n",
      "Roderick T. Sawyer          32558\n",
      "Scott Waguespack            68223\n",
      "Susan Sadlowski Garza       38417\n",
      "Tom Tunney                  88708\n",
      "Toni L. Foulkes             27573\n",
      "Walter Burnett, Jr.         87143\n",
      "William D. Burns           107811\n",
      "Willie B. Cochran           28024\n"
     ]
    }
   ],
   "source": [
    "# Merge licenses and zip_demo, on zip; and merge the wards on ward\n",
    "licenses_zip_ward = licenses.merge(zip_demo, on = 'zip') \\\n",
    "            \t\t\t.merge(wards, on = 'ward')\n",
    "\n",
    "# Print the results by alderman and show median income\n",
    "print(licenses_zip_ward.groupby('alderman').agg({'income':'median'}))"
   ]
  },
  {
   "cell_type": "markdown",
   "id": "048f66d1",
   "metadata": {},
   "source": [
    "## One-to-many merge with multiple tables"
   ]
  },
  {
   "cell_type": "code",
   "execution_count": 22,
   "id": "e1a6483e",
   "metadata": {},
   "outputs": [],
   "source": [
    "land_use = pd.read_pickle('land_use.p')"
   ]
  },
  {
   "cell_type": "code",
   "execution_count": 23,
   "id": "cbfd6050",
   "metadata": {},
   "outputs": [
    {
     "name": "stdout",
     "output_type": "stream",
     "text": [
      "   ward  pop_2010  vacant  account\n",
      "47    7     51581      19       80\n",
      "12   20     52372      15      123\n",
      "1    10     51535      14      130\n",
      "16   24     54909      13       98\n",
      "7    16     51954      13      156\n"
     ]
    }
   ],
   "source": [
    "# Merge land_use and census and merge result with licenses including suffixes\n",
    "land_cen_lic = land_use.merge(census, on='ward') \\\n",
    "                    .merge(licenses, on='ward', suffixes=('_cen','_lic'))\n",
    "\n",
    "# Group by ward, pop_2010, and vacant, then count the # of accounts\n",
    "pop_vac_lic = land_cen_lic.groupby(['ward','pop_2010','vacant'], \n",
    "                                   as_index=False).agg({'account':'count'})\n",
    "\n",
    "# Sort pop_vac_lic and print the results\n",
    "sorted_pop_vac_lic = pop_vac_lic.sort_values(by = ['vacant', 'account', 'pop_2010'], \n",
    "                                             ascending= [False, True, True])\n",
    "\n",
    "# Print the top few rows of sorted_pop_vac_lic\n",
    "print(sorted_pop_vac_lic.head())"
   ]
  },
  {
   "cell_type": "markdown",
   "id": "b9a7e701",
   "metadata": {},
   "source": [
    "## Left join"
   ]
  },
  {
   "cell_type": "code",
   "execution_count": 24,
   "id": "5197ac57",
   "metadata": {},
   "outputs": [],
   "source": [
    "# syntax \n",
    "# left_right = left.merge(right, on = 'variable to merge on', how = 'left')"
   ]
  },
  {
   "cell_type": "code",
   "execution_count": 25,
   "id": "f2107a92",
   "metadata": {},
   "outputs": [],
   "source": [
    "movies = pd.read_pickle('movies.p')\n",
    "financials = pd.read_pickle('financials.p')"
   ]
  },
  {
   "cell_type": "code",
   "execution_count": 26,
   "id": "f23c7927",
   "metadata": {},
   "outputs": [
    {
     "name": "stdout",
     "output_type": "stream",
     "text": [
      "1574\n"
     ]
    }
   ],
   "source": [
    "## Counting missing rows with left join\n",
    "\n",
    "# Merge the movies table with the financials table with a left join\n",
    "movies_financials = movies.merge(financials, on='id', how='left')\n",
    "\n",
    "# Count the number of rows in the budget column that are missing\n",
    "number_of_missing_fin = movies_financials['budget'].isnull().sum()\n",
    "\n",
    "# Print the number of movies missing financials\n",
    "print(number_of_missing_fin)"
   ]
  },
  {
   "cell_type": "code",
   "execution_count": 27,
   "id": "5f4a3541",
   "metadata": {},
   "outputs": [
    {
     "name": "stdout",
     "output_type": "stream",
     "text": [
      "False    3229\n",
      "True     1574\n",
      "Name: budget, dtype: int64\n"
     ]
    }
   ],
   "source": [
    "# An alternative method\n",
    "\n",
    "# Count the number of rows in the budget column that are missing\n",
    "number_of_missing_fin = movies_financials['budget'].isnull().value_counts()\n",
    "\n",
    "# Print the number of movies missing financials\n",
    "print(number_of_missing_fin)"
   ]
  },
  {
   "cell_type": "code",
   "execution_count": 28,
   "id": "758ce0a0",
   "metadata": {},
   "outputs": [],
   "source": [
    "## How many rows with a left join?\n",
    "\n",
    "# Consider the following two lines of code:\n",
    "\n",
    "# left_table.merge(one_to_one, on='id', how='left').shape\n",
    "# left_table.merge(one_to_many, on='id', how='left').shape\n",
    "\n",
    "# The output of a one-to-one merge with a left join will have \n",
    "# the same number of rows as the left table. While The output of \n",
    "# a one-to-many merge with a left join will have greater than or equal rows than the left table."
   ]
  },
  {
   "cell_type": "markdown",
   "id": "8ca4b9c1",
   "metadata": {},
   "source": [
    "## Other joins"
   ]
  },
  {
   "cell_type": "markdown",
   "id": "68e86b98",
   "metadata": {},
   "source": [
    "## Right join to find unique movies"
   ]
  },
  {
   "cell_type": "code",
   "execution_count": 29,
   "id": "23b28236",
   "metadata": {},
   "outputs": [],
   "source": [
    "movie_to_genres = pd.read_pickle('movie_to_genres.p')\n",
    "scifi_movies = movie_to_genres[movie_to_genres['genre'] == 'Science Fiction']\n",
    "action_movies = movie_to_genres[movie_to_genres['genre'] == 'Action']"
   ]
  },
  {
   "cell_type": "code",
   "execution_count": 30,
   "id": "a4b7ae76",
   "metadata": {},
   "outputs": [
    {
     "name": "stdout",
     "output_type": "stream",
     "text": [
      "      id                         title  popularity release_date  movie_id  \\\n",
      "0  18841  The Lost Skeleton of Cadavra    1.680525   2001-09-12     18841   \n",
      "1  26672     The Thief and the Cobbler    2.439184   1993-09-23     26672   \n",
      "2  15301      Twilight Zone: The Movie   12.902975   1983-06-24     15301   \n",
      "3   8452                   The 6th Day   18.447479   2000-11-17      8452   \n",
      "4   1649    Bill & Ted's Bogus Journey   11.349664   1991-07-19      1649   \n",
      "\n",
      "  genre_act        genre_sci  \n",
      "0       NaN  Science Fiction  \n",
      "1       NaN  Science Fiction  \n",
      "2       NaN  Science Fiction  \n",
      "3       NaN  Science Fiction  \n",
      "4       NaN  Science Fiction  \n"
     ]
    }
   ],
   "source": [
    "# Merge action_movies to the scifi_movies with right join\n",
    "action_scifi = action_movies.merge(scifi_movies, on='movie_id', how='right',\n",
    "                                   suffixes=('_act','_sci'))\n",
    "\n",
    "# From action_scifi, select only the rows where the genre_act column is null\n",
    "scifi_only = action_scifi[action_scifi['genre_act'].isnull()]\n",
    "\n",
    "# Merge the movies and scifi_only tables with an inner join\n",
    "movies_and_scifi_only = movies.merge(scifi_only, left_on = 'id', right_on = 'movie_id')\n",
    "\n",
    "# Print the first few rows and shape of movies_and_scifi_only\n",
    "print(movies_and_scifi_only.head())"
   ]
  },
  {
   "cell_type": "code",
   "execution_count": 31,
   "id": "aef8cf93",
   "metadata": {},
   "outputs": [
    {
     "name": "stdout",
     "output_type": "stream",
     "text": [
      "(258, 7)\n"
     ]
    }
   ],
   "source": [
    "print(movies_and_scifi_only.shape)"
   ]
  },
  {
   "cell_type": "markdown",
   "id": "a00aa759",
   "metadata": {},
   "source": [
    "## Popular genres with right join"
   ]
  },
  {
   "cell_type": "code",
   "execution_count": 32,
   "id": "d374a7bc",
   "metadata": {},
   "outputs": [
    {
     "data": {
      "image/png": "[encoded data removed]",
      "text/plain": [
       "<Figure size 432x288 with 1 Axes>"
      ]
     },
     "metadata": {
      "needs_background": "light"
     },
     "output_type": "display_data"
    }
   ],
   "source": [
    "# The top 10 most popular movies\n",
    "pop_movies = movies.sort_values(by = 'popularity', ascending = False).iloc[0:10]\n",
    "\n",
    "# Use right join to merge the movie_to_genres and pop_movies tables\n",
    "genres_movies = movie_to_genres.merge(pop_movies, how='right',left_on = 'movie_id', right_on = 'id')\n",
    "\n",
    "# Count the number of genres\n",
    "genre_count = genres_movies.groupby('genre').agg({'id':'count'})\n",
    "\n",
    "# Plot a bar chart of the genre_count\n",
    "import matplotlib.pyplot as plt\n",
    "genre_count.plot(kind='bar', rot = 45)\n",
    "plt.show()"
   ]
  },
  {
   "cell_type": "code",
   "execution_count": 33,
   "id": "dc4f07af",
   "metadata": {},
   "outputs": [],
   "source": [
    "# # Merge iron_1_actors to iron_2_actors on id with outer join using suffixes\n",
    "# iron_1_and_2 = iron_1_actors.merge(iron_2_actors,\n",
    "#                                      on = 'id',\n",
    "#                                      how = 'outer',\n",
    "#                                      suffixes = ('_1','_2'))\n",
    "\n",
    "# Create an index that returns true if name_1 or name_2 are null\n",
    "# m = ((iron_1_and_2['name_1'].isnull()) | (iron_1_and_2['name_2'].isnull()))\n",
    "\n",
    "# Print the first few rows of iron_1_and_2\n",
    "# print(iron_1_and_2[m].head())"
   ]
  },
  {
   "cell_type": "markdown",
   "id": "31ad4ba8",
   "metadata": {},
   "source": [
    "## Self join ( = merging a table to itself = merging two copies of the same table)"
   ]
  },
  {
   "cell_type": "code",
   "execution_count": 34,
   "id": "06f40866",
   "metadata": {},
   "outputs": [
    {
     "data": {
      "text/html": [
       "<div>\n",
       "<style scoped>\n",
       "    .dataframe tbody tr th:only-of-type {\n",
       "        vertical-align: middle;\n",
       "    }\n",
       "\n",
       "    .dataframe tbody tr th {\n",
       "        vertical-align: top;\n",
       "    }\n",
       "\n",
       "    .dataframe thead th {\n",
       "        text-align: right;\n",
       "    }\n",
       "</style>\n",
       "<table border=\"1\" class=\"dataframe\">\n",
       "  <thead>\n",
       "    <tr style=\"text-align: right;\">\n",
       "      <th></th>\n",
       "      <th>id</th>\n",
       "      <th>department</th>\n",
       "      <th>job</th>\n",
       "      <th>name</th>\n",
       "    </tr>\n",
       "  </thead>\n",
       "  <tbody>\n",
       "    <tr>\n",
       "      <th>0</th>\n",
       "      <td>19995</td>\n",
       "      <td>Editing</td>\n",
       "      <td>Editor</td>\n",
       "      <td>Stephen E. Rivkin</td>\n",
       "    </tr>\n",
       "    <tr>\n",
       "      <th>2</th>\n",
       "      <td>19995</td>\n",
       "      <td>Sound</td>\n",
       "      <td>Sound Designer</td>\n",
       "      <td>Christopher Boyes</td>\n",
       "    </tr>\n",
       "    <tr>\n",
       "      <th>4</th>\n",
       "      <td>19995</td>\n",
       "      <td>Production</td>\n",
       "      <td>Casting</td>\n",
       "      <td>Mali Finn</td>\n",
       "    </tr>\n",
       "    <tr>\n",
       "      <th>6</th>\n",
       "      <td>19995</td>\n",
       "      <td>Directing</td>\n",
       "      <td>Director</td>\n",
       "      <td>James Cameron</td>\n",
       "    </tr>\n",
       "    <tr>\n",
       "      <th>7</th>\n",
       "      <td>19995</td>\n",
       "      <td>Writing</td>\n",
       "      <td>Writer</td>\n",
       "      <td>James Cameron</td>\n",
       "    </tr>\n",
       "  </tbody>\n",
       "</table>\n",
       "</div>"
      ],
      "text/plain": [
       "      id  department             job               name\n",
       "0  19995     Editing          Editor  Stephen E. Rivkin\n",
       "2  19995       Sound  Sound Designer  Christopher Boyes\n",
       "4  19995  Production         Casting          Mali Finn\n",
       "6  19995   Directing        Director      James Cameron\n",
       "7  19995     Writing          Writer      James Cameron"
      ]
     },
     "execution_count": 34,
     "metadata": {},
     "output_type": "execute_result"
    }
   ],
   "source": [
    "crews = pd.read_pickle('crews.p')\n",
    "crews.head()"
   ]
  },
  {
   "cell_type": "code",
   "execution_count": 35,
   "id": "0c0a1c0f",
   "metadata": {},
   "outputs": [
    {
     "data": {
      "text/html": [
       "<div>\n",
       "<style scoped>\n",
       "    .dataframe tbody tr th:only-of-type {\n",
       "        vertical-align: middle;\n",
       "    }\n",
       "\n",
       "    .dataframe tbody tr th {\n",
       "        vertical-align: top;\n",
       "    }\n",
       "\n",
       "    .dataframe thead th {\n",
       "        text-align: right;\n",
       "    }\n",
       "</style>\n",
       "<table border=\"1\" class=\"dataframe\">\n",
       "  <thead>\n",
       "    <tr style=\"text-align: right;\">\n",
       "      <th></th>\n",
       "      <th>id</th>\n",
       "      <th>department_dir</th>\n",
       "      <th>job_dir</th>\n",
       "      <th>name_dir</th>\n",
       "      <th>department_crew</th>\n",
       "      <th>job_crew</th>\n",
       "      <th>name_crew</th>\n",
       "    </tr>\n",
       "  </thead>\n",
       "  <tbody>\n",
       "    <tr>\n",
       "      <th>0</th>\n",
       "      <td>19995</td>\n",
       "      <td>Editing</td>\n",
       "      <td>Editor</td>\n",
       "      <td>Stephen E. Rivkin</td>\n",
       "      <td>Editing</td>\n",
       "      <td>Editor</td>\n",
       "      <td>Stephen E. Rivkin</td>\n",
       "    </tr>\n",
       "    <tr>\n",
       "      <th>1</th>\n",
       "      <td>19995</td>\n",
       "      <td>Editing</td>\n",
       "      <td>Editor</td>\n",
       "      <td>Stephen E. Rivkin</td>\n",
       "      <td>Sound</td>\n",
       "      <td>Sound Designer</td>\n",
       "      <td>Christopher Boyes</td>\n",
       "    </tr>\n",
       "    <tr>\n",
       "      <th>2</th>\n",
       "      <td>19995</td>\n",
       "      <td>Editing</td>\n",
       "      <td>Editor</td>\n",
       "      <td>Stephen E. Rivkin</td>\n",
       "      <td>Production</td>\n",
       "      <td>Casting</td>\n",
       "      <td>Mali Finn</td>\n",
       "    </tr>\n",
       "    <tr>\n",
       "      <th>3</th>\n",
       "      <td>19995</td>\n",
       "      <td>Editing</td>\n",
       "      <td>Editor</td>\n",
       "      <td>Stephen E. Rivkin</td>\n",
       "      <td>Directing</td>\n",
       "      <td>Director</td>\n",
       "      <td>James Cameron</td>\n",
       "    </tr>\n",
       "    <tr>\n",
       "      <th>4</th>\n",
       "      <td>19995</td>\n",
       "      <td>Editing</td>\n",
       "      <td>Editor</td>\n",
       "      <td>Stephen E. Rivkin</td>\n",
       "      <td>Writing</td>\n",
       "      <td>Writer</td>\n",
       "      <td>James Cameron</td>\n",
       "    </tr>\n",
       "  </tbody>\n",
       "</table>\n",
       "</div>"
      ],
      "text/plain": [
       "      id department_dir job_dir           name_dir department_crew  \\\n",
       "0  19995        Editing  Editor  Stephen E. Rivkin         Editing   \n",
       "1  19995        Editing  Editor  Stephen E. Rivkin           Sound   \n",
       "2  19995        Editing  Editor  Stephen E. Rivkin      Production   \n",
       "3  19995        Editing  Editor  Stephen E. Rivkin       Directing   \n",
       "4  19995        Editing  Editor  Stephen E. Rivkin         Writing   \n",
       "\n",
       "         job_crew          name_crew  \n",
       "0          Editor  Stephen E. Rivkin  \n",
       "1  Sound Designer  Christopher Boyes  \n",
       "2         Casting          Mali Finn  \n",
       "3        Director      James Cameron  \n",
       "4          Writer      James Cameron  "
      ]
     },
     "execution_count": 35,
     "metadata": {},
     "output_type": "execute_result"
    }
   ],
   "source": [
    "# Merge the crews table to itself\n",
    "crews_self_merged = crews.merge(crews, on='id', how='inner',\n",
    "                                suffixes=('_dir','_crew'))\n",
    "crews_self_merged.head()"
   ]
  },
  {
   "cell_type": "code",
   "execution_count": 36,
   "id": "a9930ba4",
   "metadata": {},
   "outputs": [
    {
     "name": "stdout",
     "output_type": "stream",
     "text": [
      "        id department_dir   job_dir       name_dir department_crew  \\\n",
      "156  19995      Directing  Director  James Cameron         Editing   \n",
      "157  19995      Directing  Director  James Cameron           Sound   \n",
      "158  19995      Directing  Director  James Cameron      Production   \n",
      "160  19995      Directing  Director  James Cameron         Writing   \n",
      "161  19995      Directing  Director  James Cameron             Art   \n",
      "\n",
      "           job_crew          name_crew  \n",
      "156          Editor  Stephen E. Rivkin  \n",
      "157  Sound Designer  Christopher Boyes  \n",
      "158         Casting          Mali Finn  \n",
      "160          Writer      James Cameron  \n",
      "161    Set Designer    Richard F. Mays  \n"
     ]
    }
   ],
   "source": [
    "# Create a Boolean index to select the appropriate\n",
    "boolean_filter = ((crews_self_merged['job_dir'] == 'Director') & \n",
    "     (crews_self_merged['job_crew'] != 'Director'))\n",
    "direct_crews = crews_self_merged[boolean_filter]\n",
    "\n",
    "# Print the first few rows of direct_crews\n",
    "print(direct_crews.head())"
   ]
  },
  {
   "cell_type": "markdown",
   "id": "8abdb023",
   "metadata": {},
   "source": [
    "## Merging on indexes"
   ]
  },
  {
   "cell_type": "code",
   "execution_count": 37,
   "id": "897bdc87",
   "metadata": {},
   "outputs": [
    {
     "data": {
      "text/html": [
       "<div>\n",
       "<style scoped>\n",
       "    .dataframe tbody tr th:only-of-type {\n",
       "        vertical-align: middle;\n",
       "    }\n",
       "\n",
       "    .dataframe tbody tr th {\n",
       "        vertical-align: top;\n",
       "    }\n",
       "\n",
       "    .dataframe thead th {\n",
       "        text-align: right;\n",
       "    }\n",
       "</style>\n",
       "<table border=\"1\" class=\"dataframe\">\n",
       "  <thead>\n",
       "    <tr style=\"text-align: right;\">\n",
       "      <th></th>\n",
       "      <th>id</th>\n",
       "      <th>vote_average</th>\n",
       "      <th>vote_count</th>\n",
       "    </tr>\n",
       "  </thead>\n",
       "  <tbody>\n",
       "    <tr>\n",
       "      <th>0</th>\n",
       "      <td>19995</td>\n",
       "      <td>7.2</td>\n",
       "      <td>11800.0</td>\n",
       "    </tr>\n",
       "    <tr>\n",
       "      <th>1</th>\n",
       "      <td>285</td>\n",
       "      <td>6.9</td>\n",
       "      <td>4500.0</td>\n",
       "    </tr>\n",
       "    <tr>\n",
       "      <th>2</th>\n",
       "      <td>206647</td>\n",
       "      <td>6.3</td>\n",
       "      <td>4466.0</td>\n",
       "    </tr>\n",
       "    <tr>\n",
       "      <th>3</th>\n",
       "      <td>49026</td>\n",
       "      <td>7.6</td>\n",
       "      <td>9106.0</td>\n",
       "    </tr>\n",
       "    <tr>\n",
       "      <th>4</th>\n",
       "      <td>49529</td>\n",
       "      <td>6.1</td>\n",
       "      <td>2124.0</td>\n",
       "    </tr>\n",
       "  </tbody>\n",
       "</table>\n",
       "</div>"
      ],
      "text/plain": [
       "       id  vote_average  vote_count\n",
       "0   19995           7.2     11800.0\n",
       "1     285           6.9      4500.0\n",
       "2  206647           6.3      4466.0\n",
       "3   49026           7.6      9106.0\n",
       "4   49529           6.1      2124.0"
      ]
     },
     "execution_count": 37,
     "metadata": {},
     "output_type": "execute_result"
    }
   ],
   "source": [
    "ratings = pd.read_pickle('ratings.p')\n",
    "ratings.head()"
   ]
  },
  {
   "cell_type": "code",
   "execution_count": 38,
   "id": "1b7dab1f",
   "metadata": {},
   "outputs": [
    {
     "data": {
      "text/html": [
       "<div>\n",
       "<style scoped>\n",
       "    .dataframe tbody tr th:only-of-type {\n",
       "        vertical-align: middle;\n",
       "    }\n",
       "\n",
       "    .dataframe tbody tr th {\n",
       "        vertical-align: top;\n",
       "    }\n",
       "\n",
       "    .dataframe thead th {\n",
       "        text-align: right;\n",
       "    }\n",
       "</style>\n",
       "<table border=\"1\" class=\"dataframe\">\n",
       "  <thead>\n",
       "    <tr style=\"text-align: right;\">\n",
       "      <th></th>\n",
       "      <th>id</th>\n",
       "      <th>title</th>\n",
       "      <th>popularity</th>\n",
       "      <th>release_date</th>\n",
       "    </tr>\n",
       "  </thead>\n",
       "  <tbody>\n",
       "    <tr>\n",
       "      <th>0</th>\n",
       "      <td>257</td>\n",
       "      <td>Oliver Twist</td>\n",
       "      <td>20.415572</td>\n",
       "      <td>2005-09-23</td>\n",
       "    </tr>\n",
       "    <tr>\n",
       "      <th>1</th>\n",
       "      <td>14290</td>\n",
       "      <td>Better Luck Tomorrow</td>\n",
       "      <td>3.877036</td>\n",
       "      <td>2002-01-12</td>\n",
       "    </tr>\n",
       "    <tr>\n",
       "      <th>2</th>\n",
       "      <td>38365</td>\n",
       "      <td>Grown Ups</td>\n",
       "      <td>38.864027</td>\n",
       "      <td>2010-06-24</td>\n",
       "    </tr>\n",
       "    <tr>\n",
       "      <th>3</th>\n",
       "      <td>9672</td>\n",
       "      <td>Infamous</td>\n",
       "      <td>3.680896</td>\n",
       "      <td>2006-11-16</td>\n",
       "    </tr>\n",
       "    <tr>\n",
       "      <th>4</th>\n",
       "      <td>12819</td>\n",
       "      <td>Alpha and Omega</td>\n",
       "      <td>12.300789</td>\n",
       "      <td>2010-09-17</td>\n",
       "    </tr>\n",
       "  </tbody>\n",
       "</table>\n",
       "</div>"
      ],
      "text/plain": [
       "      id                 title  popularity release_date\n",
       "0    257          Oliver Twist   20.415572   2005-09-23\n",
       "1  14290  Better Luck Tomorrow    3.877036   2002-01-12\n",
       "2  38365             Grown Ups   38.864027   2010-06-24\n",
       "3   9672              Infamous    3.680896   2006-11-16\n",
       "4  12819       Alpha and Omega   12.300789   2010-09-17"
      ]
     },
     "execution_count": 38,
     "metadata": {},
     "output_type": "execute_result"
    }
   ],
   "source": [
    "movies.head()"
   ]
  },
  {
   "cell_type": "code",
   "execution_count": 39,
   "id": "15602a13",
   "metadata": {},
   "outputs": [
    {
     "data": {
      "text/html": [
       "<div>\n",
       "<style scoped>\n",
       "    .dataframe tbody tr th:only-of-type {\n",
       "        vertical-align: middle;\n",
       "    }\n",
       "\n",
       "    .dataframe tbody tr th {\n",
       "        vertical-align: top;\n",
       "    }\n",
       "\n",
       "    .dataframe thead th {\n",
       "        text-align: right;\n",
       "    }\n",
       "</style>\n",
       "<table border=\"1\" class=\"dataframe\">\n",
       "  <thead>\n",
       "    <tr style=\"text-align: right;\">\n",
       "      <th></th>\n",
       "      <th>title</th>\n",
       "      <th>popularity</th>\n",
       "      <th>release_date</th>\n",
       "    </tr>\n",
       "    <tr>\n",
       "      <th>id</th>\n",
       "      <th></th>\n",
       "      <th></th>\n",
       "      <th></th>\n",
       "    </tr>\n",
       "  </thead>\n",
       "  <tbody>\n",
       "    <tr>\n",
       "      <th>257</th>\n",
       "      <td>Oliver Twist</td>\n",
       "      <td>20.415572</td>\n",
       "      <td>2005-09-23</td>\n",
       "    </tr>\n",
       "    <tr>\n",
       "      <th>14290</th>\n",
       "      <td>Better Luck Tomorrow</td>\n",
       "      <td>3.877036</td>\n",
       "      <td>2002-01-12</td>\n",
       "    </tr>\n",
       "    <tr>\n",
       "      <th>38365</th>\n",
       "      <td>Grown Ups</td>\n",
       "      <td>38.864027</td>\n",
       "      <td>2010-06-24</td>\n",
       "    </tr>\n",
       "    <tr>\n",
       "      <th>9672</th>\n",
       "      <td>Infamous</td>\n",
       "      <td>3.680896</td>\n",
       "      <td>2006-11-16</td>\n",
       "    </tr>\n",
       "    <tr>\n",
       "      <th>12819</th>\n",
       "      <td>Alpha and Omega</td>\n",
       "      <td>12.300789</td>\n",
       "      <td>2010-09-17</td>\n",
       "    </tr>\n",
       "  </tbody>\n",
       "</table>\n",
       "</div>"
      ],
      "text/plain": [
       "                      title  popularity release_date\n",
       "id                                                  \n",
       "257            Oliver Twist   20.415572   2005-09-23\n",
       "14290  Better Luck Tomorrow    3.877036   2002-01-12\n",
       "38365             Grown Ups   38.864027   2010-06-24\n",
       "9672               Infamous    3.680896   2006-11-16\n",
       "12819       Alpha and Omega   12.300789   2010-09-17"
      ]
     },
     "execution_count": 39,
     "metadata": {},
     "output_type": "execute_result"
    }
   ],
   "source": [
    "movies = movies.set_index('id')\n",
    "movies.head()"
   ]
  },
  {
   "cell_type": "code",
   "execution_count": 40,
   "id": "b04527e6",
   "metadata": {},
   "outputs": [
    {
     "name": "stdout",
     "output_type": "stream",
     "text": [
      "      id                 title  popularity release_date  vote_average  \\\n",
      "0    257          Oliver Twist   20.415572   2005-09-23           6.7   \n",
      "1  14290  Better Luck Tomorrow    3.877036   2002-01-12           6.5   \n",
      "2  38365             Grown Ups   38.864027   2010-06-24           6.0   \n",
      "3   9672              Infamous    3.680896   2006-11-16           6.4   \n",
      "4  12819       Alpha and Omega   12.300789   2010-09-17           5.3   \n",
      "\n",
      "   vote_count  \n",
      "0       274.0  \n",
      "1        27.0  \n",
      "2      1705.0  \n",
      "3        60.0  \n",
      "4       124.0  \n"
     ]
    }
   ],
   "source": [
    "# Merge to the movies table the ratings table on the index\n",
    "movies_ratings = movies.merge(ratings, on = 'id', how = 'left')\n",
    "\n",
    "# Print the first few rows of movies_ratings\n",
    "print(movies_ratings.head())"
   ]
  },
  {
   "cell_type": "markdown",
   "id": "436f2c38",
   "metadata": {},
   "source": [
    "## Do sequels earn more?"
   ]
  },
  {
   "cell_type": "code",
   "execution_count": 41,
   "id": "5a5813de",
   "metadata": {},
   "outputs": [
    {
     "name": "stdout",
     "output_type": "stream",
     "text": [
      "           budget       revenue\n",
      "id                             \n",
      "19995   237000000  2.787965e+09\n",
      "285     300000000  9.610000e+08\n",
      "206647  245000000  8.806746e+08\n",
      "49026   250000000  1.084939e+09\n",
      "49529   260000000  2.841391e+08\n",
      "(3229, 2)\n"
     ]
    }
   ],
   "source": [
    "financials = financials.set_index('id')\n",
    "print(financials.head())\n",
    "print(financials.shape)"
   ]
  },
  {
   "cell_type": "code",
   "execution_count": 42,
   "id": "9c94381f",
   "metadata": {},
   "outputs": [
    {
     "name": "stdout",
     "output_type": "stream",
     "text": [
      "(4803, 2)\n"
     ]
    }
   ],
   "source": [
    "sequels = pd.read_pickle('sequels.p')\n",
    "# sequels.head()\n",
    "sequels = sequels.set_index('id')\n",
    "print(sequels.shape)"
   ]
  },
  {
   "cell_type": "markdown",
   "id": "bc778de4",
   "metadata": {},
   "source": [
    "Don't know why the follow code returns an error"
   ]
  },
  {
   "cell_type": "code",
   "execution_count": 43,
   "id": "caab2102",
   "metadata": {},
   "outputs": [],
   "source": [
    "# Merge sequels and financials on index id\n",
    "# sequels_fin = sequels.merge(financials, on='id', how='left')\n",
    "\n",
    "# Self merge with suffixes as inner join with left on sequel and right on id\n",
    "# orig_seq = sequels_fin.merge(sequels_fin, how='inner', left_on='sequel', \n",
    "#                             right_on='id', right_index=True,\n",
    "#                             suffixes=('_org','_seq'))\n",
    "\n",
    "# Add calculation to subtract revenue_org from revenue_seq \n",
    "# orig_seq['diff'] = orig_seq['revenue_seq'] - orig_seq['revenue_org']\n",
    "\n",
    "# Select the title_org, title_seq, and diff \n",
    "# titles_diff = orig_seq[['title_org','title_seq','diff']]\n",
    "\n",
    "# Print the first rows of the sorted titles_diff\n",
    "# print(titles_diff.sort_values(by = 'diff', ascending = False).head())"
   ]
  },
  {
   "cell_type": "markdown",
   "id": "c86ab735",
   "metadata": {},
   "source": [
    "## Filtering joins"
   ]
  },
  {
   "cell_type": "markdown",
   "id": "430ddd2a",
   "metadata": {},
   "source": [
    "## Semi-join\n",
    "\n",
    "A **semi-join** filters the left table to only the rows where a match exists in both the left and right tables.\n",
    "\n",
    "Procedure:\n",
    "\n",
    "1. Merge the left and right table on key column using an inner-join.\n",
    "2. Search if the key column in the left table is in the merged table using the `.isin()` method creating a Boolean series.\n",
    "3. Subset the rows of the left table."
   ]
  },
  {
   "cell_type": "markdown",
   "id": "c8cd3719",
   "metadata": {},
   "source": [
    "## Performing an anti-join\n",
    "\n",
    "In our music streaming company dataset, each customer is assigned an employee representative to assist them. In this exercise, filter the employee table by a table of top customers, returning only those employees who are not assigned to a customer. The results should resemble the results of an anti-join. The company's leadership will assign these employees additional training so that they can work with high valued customers.\n",
    "\n",
    "The `top_cust` and `employees` tables have been provided for you.\n",
    "\n",
    "Data Camp did not make those data sets available for download so we will only keep the code here"
   ]
  },
  {
   "cell_type": "code",
   "execution_count": 44,
   "id": "c2dec308",
   "metadata": {},
   "outputs": [],
   "source": [
    "# Merge employees and top_cust\n",
    "# empl_cust = employees.merge(top_cust, on='srid', \n",
    "#                                 how='left', indicator=True)\n",
    "\n",
    "# Select the srid column where _merge is left_only\n",
    "# srid_list = empl_cust.loc[empl_cust['_merge'] == 'left_only', 'srid']\n",
    "\n",
    "# Get employees not working with top customers\n",
    "# print(employees[employees['srid'].isin(srid_list)])"
   ]
  },
  {
   "cell_type": "markdown",
   "id": "2f92f672",
   "metadata": {},
   "source": [
    " Success! You performed an anti-join by first merging the tables with a left join, \n",
    " selecting the ID of those employees who did not support a top customer, \n",
    "and then subsetting the original employee's table. From that, \n",
    " we can see that there are five employees not supporting top customers. \n",
    " Anti-joins are a powerful tool to filter a main table (i.e. employees) by another (i.e. customers)."
   ]
  },
  {
   "cell_type": "markdown",
   "id": "8bc2aae0",
   "metadata": {},
   "source": [
    "##  Performing a semi-join (again no data sets)\n",
    "Some of the tracks that have generated the most significant amount of revenue are from TV-shows or are other non-musical audio. You have been given a table of invoices that include top revenue-generating items. Additionally, you have a table of non-musical tracks from the streaming service. In this exercise, you'll use a semi-join to find the top revenue-generating non-musical tracks..\n",
    "\n",
    "The tables `non_mus_tcks`, `top_invoices`, and `genres` have been loaded for you."
   ]
  },
  {
   "cell_type": "code",
   "execution_count": 45,
   "id": "5da8bb8c",
   "metadata": {},
   "outputs": [],
   "source": [
    "# Merge the non_mus_tck and top_invoices tables on tid\n",
    "# tracks_invoices = non_mus_tcks.merge(top_invoices, on = 'tid')\n",
    "\n",
    "# Use .isin() to subset non_mus_tcks to rows with tid in tracks_invoices\n",
    "# top_tracks = non_mus_tcks[non_mus_tcks['tid'].isin(tracks_invoices['tid'])]\n",
    "\n",
    "# Group the top_tracks by gid and count the tid rows\n",
    "# cnt_by_gid = top_tracks.groupby(['gid'], as_index=False).agg({'tid':'count'})\n",
    "\n",
    "# Merge the genres table to cnt_by_gid on gid and print\n",
    "# print(cnt_by_gid.merge(genres, on = 'gid'))"
   ]
  },
  {
   "cell_type": "markdown",
   "id": "812f6e35",
   "metadata": {},
   "source": [
    "Nice job! In this exercise, you replicated a semi-join to filter the table of tracks by the table of invoice items to find the top revenue non-musical tracks. With some additional data manipulation, you discovered that 'TV-shows' is the non-musical genre that has the most top revenue-generating tracks. Now that you've done both semi- and anti-joins, it's time to move to the next topic."
   ]
  },
  {
   "cell_type": "markdown",
   "id": "0edccb49",
   "metadata": {},
   "source": [
    "## Concatenate DataFrames together vertically\n"
   ]
  },
  {
   "cell_type": "markdown",
   "id": "7fd0db09",
   "metadata": {},
   "source": [
    "## Concatenation basics (again data sets unavailable)\n",
    "You have been given a few tables of data with musical track info for different albums from the metal band, Metallica. The track info comes from their Ride The Lightning, Master Of Puppets, and St. Anger albums. Try various features of the `.concat()` method by concatenating the tables vertically together in different ways.\n",
    "\n",
    "The tables `tracks_master`, `tracks_ride`, and `tracks_st` have loaded for you."
   ]
  },
  {
   "cell_type": "code",
   "execution_count": 46,
   "id": "3f124b05",
   "metadata": {},
   "outputs": [],
   "source": [
    "# Concatenate the tracks\n",
    "# tracks_from_albums = pd.concat([tracks_master, tracks_ride, tracks_st], sort=True)\n",
    "\n",
    "# print(tracks_from_albums)\n",
    "\n",
    "# Concatenate the tracks so the index goes from 0 to n-1\n",
    "# tracks_from_albums = pd.concat([tracks_master, tracks_ride, tracks_st], \n",
    "# ignore_index = True, sort=True)\n",
    "\n",
    "# print(tracks_from_albums)\n",
    "\n",
    "# Concatenate the tracks, show only columns names that are in all tables\n",
    "# tracks_from_albums = pd.concat([tracks_master, tracks_ride,tracks_st], \n",
    "# join = 'inner', sort=True)\n",
    "\n",
    "# print(tracks_from_albums)"
   ]
  },
  {
   "cell_type": "code",
   "execution_count": 47,
   "id": "31b33fe4",
   "metadata": {},
   "outputs": [],
   "source": [
    "# Concatenating with keys\n",
    "\n",
    "# Concatenate the tables and add keys\n",
    "# inv_jul_thr_sep = pd.concat([inv_jul, inv_aug, inv_sep], \n",
    "#                            keys=['7Jul', '8Aug', '9Sep'])\n",
    "\n",
    "# Group the invoices by the index keys and find avg of the total column\n",
    "# avg_inv_by_month = inv_jul_thr_sep.groupby(level = 0).agg({'total': 'mean'})\n",
    "\n",
    "# Bar plot of avg_inv_by_month\n",
    "# avg_inv_by_month.plot(kind = 'bar')\n",
    "# plt.show()"
   ]
  },
  {
   "cell_type": "markdown",
   "id": "dd55763e",
   "metadata": {},
   "source": [
    "## Using the append method (still no data set)\n",
    "\n",
    "The `.concat()` method is excellent when you need a lot of control over how concatenation is performed. However, if you do not need as much control, then the `.append()` method is another option. You'll try this method out by appending the track lists together from different Metallica albums. From there, you will merge it with the invoice_items table to determine which track sold the most.\n",
    "\n",
    "The tables tracks_master, tracks_ride, tracks_st, and invoice_items have loaded for you."
   ]
  },
  {
   "cell_type": "code",
   "execution_count": 48,
   "id": "8f82872d",
   "metadata": {},
   "outputs": [],
   "source": [
    "# Use the .append() method to combine the tracks tables\n",
    "# metallica_tracks = tracks_ride.append([tracks_master, tracks_st], sort=False)\n",
    "\n",
    "# Merge metallica_tracks and invoice_items\n",
    "# tracks_invoices = metallica_tracks.merge(invoice_items, on='tid')\n",
    "\n",
    "# For each tid and name sum the quantity sold\n",
    "# tracks_sold = tracks_invoices.groupby(['tid','name']).agg({'quantity':'sum'})\n",
    "\n",
    "# Sort in decending order by quantity and print the results\n",
    "# print(tracks_sold.sort_values(['quantity'], ascending=False))"
   ]
  },
  {
   "cell_type": "markdown",
   "id": "4f3ae287",
   "metadata": {},
   "source": [
    "## Verifying integrity\n"
   ]
  },
  {
   "cell_type": "markdown",
   "id": "7d357c46",
   "metadata": {},
   "source": [
    "## Concatenate and merge to find common songs (yet still no data sets)"
   ]
  },
  {
   "cell_type": "code",
   "execution_count": 49,
   "id": "4cb8cf48",
   "metadata": {},
   "outputs": [],
   "source": [
    "# Concatenate the classic tables vertically\n",
    "# classic_18_19 = pd.concat([classic_18, classic_19], ignore_index=True)\n",
    "\n",
    "# Concatenate the pop tables vertically\n",
    "# pop_18_19 = pd.concat([pop_18, pop_19], ignore_index=True)\n",
    "\n",
    "# Merge classic_18_19 with pop_18_19\n",
    "# classic_pop = classic_18_19.merge(pop_18_19, on = 'tid')\n",
    "\n",
    "# Using .isin(), filter classic_18_19 rows where tid is in classic_pop\n",
    "# popular_classic = classic_18_19[classic_18_19['tid'].isin(classic_pop['tid'])]\n",
    "\n",
    "# Print popular chart\n",
    "# print(popular_classic)"
   ]
  },
  {
   "cell_type": "markdown",
   "id": "7389221b",
   "metadata": {},
   "source": [
    "## Using merge_ordered()\n"
   ]
  },
  {
   "cell_type": "code",
   "execution_count": 58,
   "id": "cfbe4c65",
   "metadata": {},
   "outputs": [
    {
     "name": "stdout",
     "output_type": "stream",
     "text": [
      "(40, 5)\n",
      "(10, 2)\n"
     ]
    }
   ],
   "source": [
    "gdp = pd.read_csv('WorldBank_GDP.csv')\n",
    "sp500 = pd.read_csv('S&P500.csv')\n",
    "\n",
    "print(gdp.shape)\n",
    "print(sp500.shape)"
   ]
  },
  {
   "cell_type": "markdown",
   "id": "ad3566bc",
   "metadata": {},
   "source": [
    "## Correlation between GDP and S&P500"
   ]
  },
  {
   "cell_type": "code",
   "execution_count": 55,
   "id": "b718ff40",
   "metadata": {},
   "outputs": [],
   "source": [
    "# Use merge_ordered() to merge gdp and sp500 on year and date\n",
    "# gdp_sp500 = pd.merge_ordered(gdp, sp500, left_on='year', right_on='date', how='left')\n",
    "\n",
    "# Print gdp_sp500\n",
    "# print(gdp_sp500)"
   ]
  },
  {
   "cell_type": "code",
   "execution_count": null,
   "id": "83f16c19",
   "metadata": {},
   "outputs": [],
   "source": [
    "# Use merge_ordered() to merge gdp and sp500, interpolate missing value\n",
    "# gdp_sp500 = pd.merge_ordered(gdp, sp500, left_on='year', right_on='date', \n",
    "                             how='left',  fill_method='ffill')\n",
    "\n",
    "# Subset the gdp and returns columns\n",
    "# gdp_returns = gdp_sp500[['gdp', 'returns']]\n",
    "\n",
    "# Print gdp_returns correlation\n",
    "# print (gdp_returns.corr())"
   ]
  },
  {
   "cell_type": "markdown",
   "id": "77d9ebe8",
   "metadata": {},
   "source": [
    "## Phillips curve"
   ]
  },
  {
   "cell_type": "code",
   "execution_count": 59,
   "id": "b8cd3171",
   "metadata": {},
   "outputs": [],
   "source": [
    "# Use merge_ordered() to merge inflation, unemployment with inner join\n",
    "# inflation_unemploy = pd.merge_ordered(inflation, unemployment, on = 'date', how = 'inner')\n",
    "\n",
    "# Print inflation_unemploy \n",
    "# print(inflation_unemploy)\n",
    "\n",
    "# Plot a scatter plot of unemployment_rate vs cpi of inflation_unemploy\n",
    "# inflation_unemploy.plot('unemployment_rate', 'cpi', \n",
    "#    kind = 'scatter')\n",
    "# plt.show()\n",
    "\n",
    "# Here we are only using DataFrame.plot so we do NOT need to include the name the DataFrame:\n",
    "# https://stackoverflow.com/questions/59694029/keyerror-none-of-float64index34-62365962451697-30-28671076822607-35-84740"
   ]
  },
  {
   "cell_type": "markdown",
   "id": "2cfb4c1e",
   "metadata": {},
   "source": [
    "## merge_ordered() caution, multiple columns"
   ]
  },
  {
   "cell_type": "code",
   "execution_count": null,
   "id": "fc9658c8",
   "metadata": {},
   "outputs": [],
   "source": [
    "# Merge gdp and pop on date and country with fill and notice rows 2 and 3\n",
    "# ctry_date = pd.merge_ordered(gdp, pop, on = ['date','country'], fill_method='ffill')\n",
    "\n",
    "# Print ctry_date\n",
    "# print(ctry_date)\n",
    "\n",
    "# Merge gdp and pop on date and country with fill and notice rows 2 and 3\n",
    "# ctry_date = pd.merge_ordered(gdp, pop, on = ['date','country'], fill_method='ffill')\n",
    "\n",
    "# Print ctry_date\n",
    "# print(ctry_date)"
   ]
  },
  {
   "cell_type": "markdown",
   "id": "89971ee8",
   "metadata": {},
   "source": [
    "Nice! When you merge on `date` first, the table is sorted by `date` then `country`. When forward fill is applied, Sweden's population value in January is used to fill in the missing values for both Australia and the Sweden for the remainder of the year. This is not what you want. The fill forward is using unintended data to fill in the missing values. However, when you merge on country first, the table is sorted by `country` then `date`, so the forward fill is applied appropriately in this situation."
   ]
  },
  {
   "cell_type": "markdown",
   "id": "12038cab",
   "metadata": {},
   "source": [
    "## Using merge_asof() (data sets unavailable)\n"
   ]
  },
  {
   "cell_type": "code",
   "execution_count": null,
   "id": "f43a1039",
   "metadata": {},
   "outputs": [],
   "source": [
    "# Use merge_asof() to merge jpm and wells\n",
    "# jpm_wells = pd.merge_asof(jpm, wells, on = 'date_time', direction = 'nearest', suffixes=('', '_wells'))\n",
    "\n",
    "\n",
    "# Use merge_asof() to merge jpm_wells and bac\n",
    "# jpm_wells_bac = pd.merge_asof(jpm_wells, bac, on = 'date_time', direction = 'nearest', suffixes=('_jpm', '_bac'))\n",
    "\n",
    "\n",
    "# Compute price diff\n",
    "# price_diffs = jpm_wells_bac.diff()\n",
    "\n",
    "# Plot the price diff of the close of jpm, wells and bac only\n",
    "# price_diffs.plot(y=['close_jpm', 'close_wells', 'close_bac'])\n",
    "# plt.show()"
   ]
  },
  {
   "cell_type": "markdown",
   "id": "f79b895e",
   "metadata": {},
   "source": [
    "## Using merge_asof() to create dataset"
   ]
  },
  {
   "cell_type": "code",
   "execution_count": null,
   "id": "90e3ba9f",
   "metadata": {},
   "outputs": [],
   "source": [
    "# Merge gdp and recession on date using merge_asof()\n",
    "# gdp_recession = pd.merge_asof(gdp, recession, on = 'date')\n",
    "\n",
    "# Create a list based on the row value of gdp_recession['econ_status']\n",
    "# is_recession = ['r' if s=='recession' else 'g' for s in gdp_recession['econ_status']]\n",
    "\n",
    "# Plot a bar chart of gdp_recession\n",
    "# gdp_recession.plot(kind='bar', y='gdp', x='date', color=is_recession, rot=90)\n",
    "# plt.show()"
   ]
  },
  {
   "cell_type": "markdown",
   "id": "83956c51",
   "metadata": {},
   "source": [
    "## Selecting data with `.query()`\n"
   ]
  },
  {
   "cell_type": "code",
   "execution_count": 61,
   "id": "0ebaa667",
   "metadata": {},
   "outputs": [],
   "source": [
    "# social_fin.query('value >= 5*10**7')\n",
    "\n",
    "# social_fin.query('financial == \"total_revenue\" and company == \"facebook\" ')\n",
    "\n",
    "# social_fin.query(' financial == \"net_income\" and value < 0 ')\n",
    "\n",
    "# social_fin.query(' financial == \"gross_profit\" and value > 10 ** 5 ')"
   ]
  },
  {
   "cell_type": "markdown",
   "id": "efbe5b19",
   "metadata": {},
   "source": [
    "## Subsetting rows with `.query()`"
   ]
  },
  {
   "cell_type": "code",
   "execution_count": 62,
   "id": "c93c8079",
   "metadata": {},
   "outputs": [],
   "source": [
    "# Merge gdp and pop on date and country with fill\n",
    "# gdp_pop = pd.merge_ordered(gdp, pop, on=['country','date'], fill_method='ffill')\n",
    "\n",
    "# Add a column named gdp_per_capita to gdp_pop that divides the gdp by pop\n",
    "# gdp_pop['gdp_per_capita'] = gdp_pop['gdp'] / gdp_pop['pop']\n",
    "\n",
    "# Pivot data so gdp_per_capita, where index is date and columns is country\n",
    "# gdp_pivot = gdp_pop.pivot_table('gdp_per_capita', 'date', 'country')\n",
    "\n",
    "# Select dates equal to or greater than 1991-01-01\n",
    "# recent_gdp_pop = gdp_pivot.query('date >= 1991')\n",
    "\n",
    "# Plot recent_gdp_pop\n",
    "# recent_gdp_pop.plot(rot=90)\n",
    "# plt.show()"
   ]
  },
  {
   "cell_type": "markdown",
   "id": "04b36295",
   "metadata": {},
   "source": [
    "## Reshaping data with .melt()\n"
   ]
  },
  {
   "cell_type": "markdown",
   "id": "8f090ad6",
   "metadata": {},
   "source": [
    "wide --> long"
   ]
  },
  {
   "cell_type": "code",
   "execution_count": null,
   "id": "ee51e4cc",
   "metadata": {},
   "outputs": [],
   "source": [
    "# unpivot everything besides the year column\n",
    "# ur_tall = ur_wide.melt(id_vars = 'year', var_name = 'month', value_name = 'unempl_rate')\n",
    "\n",
    "\n",
    "# Create a date column using the month and year columns of ur_tall\n",
    "# ur_tall['date'] = pd.to_datetime(ur_tall['year'] + '-' + ur_tall['month'])\n",
    "\n",
    "# Sort ur_tall by date in ascending order\n",
    "# ur_sorted = ur_tall.sort_values(by = 'date')\n",
    "\n",
    "# Plot the unempl_rate by date\n",
    "# ur_sorted.plot(x = 'date', y = 'unempl_rate')\n",
    "# plt.show()"
   ]
  },
  {
   "cell_type": "markdown",
   "id": "1b3f32b7",
   "metadata": {},
   "source": [
    "## Using .melt() for stocks vs bond performance"
   ]
  },
  {
   "cell_type": "code",
   "execution_count": 63,
   "id": "dd74164b",
   "metadata": {},
   "outputs": [],
   "source": [
    "# Use melt on ten_yr, unpivot everything besides the metric column\n",
    "# bond_perc = ten_yr.melt(id_vars = 'metric', var_name = 'date', value_name = 'close')\n",
    "\n",
    "# Use query on bond_perc to select only the rows where metric=close\n",
    "# bond_perc_close = bond_perc.query('metric == \"close\" ')\n",
    "\n",
    "# Merge (ordered) dji and bond_perc_close on date with an inner join. Set suffixes equal to ('_dow', '_bond')\n",
    "# dow_bond = pd.merge_ordered(dji, bond_perc_close, on = 'date', how = 'inner', suffixes = ('_dow', '_bond'))\n",
    "\n",
    "\n",
    "# Plot only the close_dow and close_bond columns\n",
    "# dow_bond.plot(y = ['close_dow', 'close_bond'], x='date', rot=90)\n",
    "# plt.show()"
   ]
  },
  {
   "cell_type": "code",
   "execution_count": null,
   "id": "daacbcee",
   "metadata": {},
   "outputs": [],
   "source": []
  }
 ],
 "metadata": {
  "kernelspec": {
   "display_name": "Python 3",
   "language": "python",
   "name": "python3"
  },
  "language_info": {
   "codemirror_mode": {
    "name": "ipython",
    "version": 3
   },
   "file_extension": ".py",
   "mimetype": "text/x-python",
   "name": "python",
   "nbconvert_exporter": "python",
   "pygments_lexer": "ipython3",
   "version": "3.7.4"
  }
 },
 "nbformat": 4,
 "nbformat_minor": 5
}
